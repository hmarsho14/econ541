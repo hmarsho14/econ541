{
 "cells": [
  {
   "cell_type": "code",
   "execution_count": 2,
   "metadata": {},
   "outputs": [],
   "source": [
    "import requests\n",
    "from bs4 import BeautifulSoup"
   ]
  },
  {
   "cell_type": "code",
   "execution_count": 3,
   "metadata": {},
   "outputs": [],
   "source": [
    "def get_sales_url(base_url):\n",
    "    sales_url = base_url.replace(\"UseSearch=no\", \"mode=sales&UseSearch=no\")\n",
    "    sales_url+=\"&jur=041&taxyr=2022&LMparent=20\"\n",
    "    \n",
    "    return sales_url\n",
    "\n",
    "def get_resident_url(base_url):\n",
    "    resident_url = base_url.replace(\"UseSearch=no\", \"mode=residential&UseSearch=no\")\n",
    "    resident_url+=\"&jur=041&taxyr=2022&LMparent=20\"\n",
    "    \n",
    "    return resident_url"
   ]
  },
  {
   "cell_type": "code",
   "execution_count": 4,
   "metadata": {},
   "outputs": [],
   "source": [
    "import re\n",
    "\n",
    "def process_text(item):\n",
    "    if not item:\n",
    "        return \"\"\n",
    "    \n",
    "    text=\"\"\n",
    "    for i in item.children:\n",
    "        text+=i.text\n",
    "        text+=\"\\n\"\n",
    "    return(text)\n",
    "        \n",
    "\n",
    "def safe_search(regex, text):\n",
    "    try:\n",
    "        return re.search(regex, text).group(0)\n",
    "    except:\n",
    "        return None\n",
    "\n",
    "def extract_resident_info(resident_url):\n",
    "    page = requests.get(resident_url)\n",
    "    soup = BeautifulSoup(page.content, \"html.parser\")\n",
    "    text = process_text(soup.find(id=\"Residential\"))\n",
    "    \n",
    "    year_built = safe_search(r'(?<=Year Built)[^.\\s]*',text)\n",
    "    bedrooms = safe_search(r'(?<=Bedrooms)[^.\\s]*',text)\n",
    "    square_feet = safe_search(r'(?<=Bedrooms)[^.\\s]*',text)\n",
    "    full_baths = safe_search(r'(?<=Full Baths)[^.\\s]*',text)\n",
    "    half_baths = safe_search(r'(?<=Half Baths)[^.\\s]*',text)\n",
    "    \n",
    "    return { \\\n",
    "            \"Year Built\": year_built, \\\n",
    "            \"Bedrooms\": bedrooms, \\\n",
    "            \"Square Feet\": square_feet, \\\n",
    "            \"Full Baths\": full_baths, \\\n",
    "            \"Half Baths\": half_baths \\\n",
    "           }\n",
    "\n",
    "def extract_sales_info(sales_url):\n",
    "    page = requests.get(sales_url)\n",
    "    soup = BeautifulSoup(page.content, \"html.parser\")\n",
    "    text = process_text(soup.find(id=\"Sales\"))\n",
    "    \n",
    "    try:\n",
    "        sales = [(i.split(\"$\")[0], i.split(\"$\")[1].replace(\",\",\"\")) for i in re.findall(\"\\d+-\\d+-\\d+\\$[0-9,]+\", text)]\n",
    "    except:\n",
    "        sales = []\n",
    "    \n",
    "    return {\"Sales\": sales}\n",
    "\n",
    "def extract_parcel(base_url):\n",
    "    page = requests.get(base_url)\n",
    "    soup = BeautifulSoup(page.content, \"html.parser\")\n",
    "    text = process_text(soup.find(id=\"Parcel\"))\n",
    "    \n",
    "    property_location = safe_search(r'(?<=Property Location).*',text)\n",
    "    _class = safe_search(r'(?<=Class).*',text)\n",
    "    land_use_code = safe_search(r'(?<=Land Use Code).*',text)\n",
    "    municipality = safe_search(r'(?<=Municipality).*',text)\n",
    "    \n",
    "    return { \\\n",
    "            \"Property Location\": property_location, \\\n",
    "            \"Class\": _class, \\\n",
    "            \"Land Use Code\": land_use_code, \\\n",
    "            \"Municipality\": municipality \\\n",
    "           }\n",
    "\n",
    "def extract_utilities(base_url):\n",
    "    page = requests.get(base_url)\n",
    "    soup = BeautifulSoup(page.content, \"html.parser\")\n",
    "    text = process_text(soup.find(id=\"Property Factors\"))\n",
    "\n",
    "    \n",
    "    \n",
    "    utils = safe_search(r'(?<=Utilities)((.|\\n)*)(?=Roads)', text)\n",
    "    if utils:\n",
    "        utils = re.sub(\"\\xa0\", \",\", utils)\n",
    "        utils = re.sub(\"[^a-zA-Z,]\", \"\", utils)\n",
    "    \n",
    "    return {\"Utilities\": utils}"
   ]
  },
  {
   "cell_type": "code",
   "execution_count": 27,
   "metadata": {},
   "outputs": [],
   "source": [
    "def get_info(base_url):\n",
    "    sales_url = get_sales_url(base_url)\n",
    "    resident_url = get_resident_url(base_url)\n",
    "    result = {\"URL\": base_url}\n",
    "    result.update(extract_parcel(base_url))\n",
    "    result.update(extract_utilities(base_url))\n",
    "    result.update(extract_sales_info(sales_url))\n",
    "    result.update(extract_resident_info(resident_url))\n",
    "    \n",
    "    return result"
   ]
  },
  {
   "cell_type": "code",
   "execution_count": 28,
   "metadata": {
    "scrolled": true
   },
   "outputs": [
    {
     "data": {
      "text/plain": [
       "{'Bedrooms': '4',\n",
       " 'Class': 'R - RESIDENTIAL BUILDING',\n",
       " 'Full Baths': '1',\n",
       " 'Half Baths': '0',\n",
       " 'Land Use Code': '101 - Residential 1 Family',\n",
       " 'Municipality': '15 - Hepburn Twp',\n",
       " 'Property Location': '15   FOX ST COGAN STATION',\n",
       " 'Sales': [('07-28-2005', '1'),\n",
       "  ('05-31-2005', '98000'),\n",
       "  ('02-01-1969', '1500')],\n",
       " 'Square Feet': '4',\n",
       " 'URL': 'https://propertyinfo.lyco.org/datalets/datalet.aspx?&UseSearch=no&pin=15-30900210W-000-',\n",
       " 'Utilities': 'Well,Septic',\n",
       " 'Year Built': '1970'}"
      ]
     },
     "execution_count": 28,
     "metadata": {},
     "output_type": "execute_result"
    }
   ],
   "source": [
    "get_info(\"https://propertyinfo.lyco.org/datalets/datalet.aspx?&UseSearch=no&pin=15-30900210W-000-\")"
   ]
  },
  {
   "cell_type": "code",
   "execution_count": 7,
   "metadata": {},
   "outputs": [],
   "source": [
    "import pandas as pd\n",
    "adf = pd.read_csv(\"documents/lycoming_centroid.csv\")"
   ]
  },
  {
   "cell_type": "code",
   "execution_count": 8,
   "metadata": {},
   "outputs": [
    {
     "data": {
      "text/plain": [
       "(51183, 18)"
      ]
     },
     "execution_count": 8,
     "metadata": {},
     "output_type": "execute_result"
    }
   ],
   "source": [
    "adf.shape"
   ]
  },
  {
   "cell_type": "code",
   "execution_count": 29,
   "metadata": {
    "scrolled": true
   },
   "outputs": [
    {
     "name": "stderr",
     "output_type": "stream",
     "text": [
      "100%|██████████| 2/2 [00:03<00:00,  1.82s/it]\n"
     ]
    },
    {
     "data": {
      "text/html": [
       "<div>\n",
       "<style scoped>\n",
       "    .dataframe tbody tr th:only-of-type {\n",
       "        vertical-align: middle;\n",
       "    }\n",
       "\n",
       "    .dataframe tbody tr th {\n",
       "        vertical-align: top;\n",
       "    }\n",
       "\n",
       "    .dataframe thead th {\n",
       "        text-align: right;\n",
       "    }\n",
       "</style>\n",
       "<table border=\"1\" class=\"dataframe\">\n",
       "  <thead>\n",
       "    <tr style=\"text-align: right;\">\n",
       "      <th></th>\n",
       "      <th>URL</th>\n",
       "      <th>Bedrooms</th>\n",
       "      <th>Class</th>\n",
       "      <th>Full Baths</th>\n",
       "      <th>Half Baths</th>\n",
       "      <th>Land Use Code</th>\n",
       "      <th>Municipality</th>\n",
       "      <th>Property Location</th>\n",
       "      <th>Sales</th>\n",
       "      <th>Square Feet</th>\n",
       "      <th>Utilities</th>\n",
       "      <th>Year Built</th>\n",
       "    </tr>\n",
       "  </thead>\n",
       "  <tbody>\n",
       "    <tr>\n",
       "      <th>0</th>\n",
       "      <td>https://propertyinfo.lyco.org/Datalets/Datalet...</td>\n",
       "      <td>None</td>\n",
       "      <td>V - VACANT LAND &gt; 10 ACRES OR MORE</td>\n",
       "      <td>None</td>\n",
       "      <td>None</td>\n",
       "      <td>113 - Agricultural Vacant Land</td>\n",
       "      <td>41 - Muncy Twp</td>\n",
       "      <td>RT 220 HWY</td>\n",
       "      <td>[(04-01-2008, 212800), (01-01-1900, 0)]</td>\n",
       "      <td>None</td>\n",
       "      <td>None,Unknown</td>\n",
       "      <td>None</td>\n",
       "    </tr>\n",
       "    <tr>\n",
       "      <th>1</th>\n",
       "      <td>NaN</td>\n",
       "      <td>NaN</td>\n",
       "      <td>NaN</td>\n",
       "      <td>NaN</td>\n",
       "      <td>NaN</td>\n",
       "      <td>NaN</td>\n",
       "      <td>NaN</td>\n",
       "      <td>NaN</td>\n",
       "      <td>NaN</td>\n",
       "      <td>NaN</td>\n",
       "      <td>NaN</td>\n",
       "      <td>NaN</td>\n",
       "    </tr>\n",
       "  </tbody>\n",
       "</table>\n",
       "</div>"
      ],
      "text/plain": [
       "                                                 URL Bedrooms  \\\n",
       "0  https://propertyinfo.lyco.org/Datalets/Datalet...     None   \n",
       "1                                                NaN      NaN   \n",
       "\n",
       "                                Class Full Baths Half Baths  \\\n",
       "0  V - VACANT LAND > 10 ACRES OR MORE       None       None   \n",
       "1                                 NaN        NaN        NaN   \n",
       "\n",
       "                    Land Use Code    Municipality Property Location  \\\n",
       "0  113 - Agricultural Vacant Land  41 - Muncy Twp        RT 220 HWY   \n",
       "1                             NaN             NaN               NaN   \n",
       "\n",
       "                                     Sales Square Feet     Utilities  \\\n",
       "0  [(04-01-2008, 212800), (01-01-1900, 0)]        None  None,Unknown   \n",
       "1                                      NaN         NaN           NaN   \n",
       "\n",
       "  Year Built  \n",
       "0       None  \n",
       "1        NaN  "
      ]
     },
     "execution_count": 29,
     "metadata": {},
     "output_type": "execute_result"
    }
   ],
   "source": [
    "from IPython.display import clear_output\n",
    "from tqdm import tqdm\n",
    "\n",
    "columns=[\"URL\", \\\n",
    "         \"Bedrooms\", \\\n",
    "         \"Class\", \\\n",
    "         \"Full Baths\", \\\n",
    "         \"Half Baths\", \\\n",
    "         \"Land Use Code\", \\\n",
    "         \"Municipality\", \\\n",
    "         \"Property Location\", \\\n",
    "         \"Sales\", \\\n",
    "         \"Square Feet\", \\\n",
    "         \"Utilities\", \\\n",
    "         \"Year Built\"]\n",
    "\n",
    "def process(lst):\n",
    "    df = pd.DataFrame(columns=columns)\n",
    "    for url in tqdm(lst):\n",
    "        \n",
    "        try:\n",
    "            df = df.append(get_info(url), ignore_index=True)\n",
    "        except:\n",
    "            df = df.append(pd.Series(None), ignore_index=True)\n",
    "        \n",
    "        clear_output(wait=False)\n",
    "        \n",
    "    return df\n",
    "\n",
    "process([adf[\"LycoOnline\"][1], \"asdf\"])"
   ]
  },
  {
   "cell_type": "code",
   "execution_count": 30,
   "metadata": {
    "scrolled": true
   },
   "outputs": [
    {
     "name": "stderr",
     "output_type": "stream",
     "text": [
      "100%|██████████| 4265/4265 [3:30:45<00:00,  2.96s/it]\n"
     ]
    }
   ],
   "source": [
    "from multiprocessing import Pool\n",
    "import numpy as np\n",
    "\n",
    "ranges = [[i[0]-1,i[-1]] for i in np.array_split(np.array(range(1, 51183)), 12)]\n",
    "ranges[-1][1]+=2\n",
    "\n",
    "ranges\n",
    "\n",
    "with Pool(12) as p:\n",
    "    df_list = p.map(process, [adf[\"LycoOnline\"][i[0]:i[1]] for i in ranges])"
   ]
  },
  {
   "cell_type": "code",
   "execution_count": 35,
   "metadata": {},
   "outputs": [],
   "source": [
    "merged_df = pd.concat(df_list)"
   ]
  },
  {
   "cell_type": "code",
   "execution_count": 72,
   "metadata": {},
   "outputs": [],
   "source": [
    "centroid_df = pd.read_csv(\"documents/lycoming_centroid.csv\", sep=\",\", header=0)"
   ]
  },
  {
   "cell_type": "code",
   "execution_count": 73,
   "metadata": {},
   "outputs": [],
   "source": [
    "merged_df = merged_df[merged_df[\"URL\"].notna()].drop_duplicates(subset=[\"URL\"])\n",
    "centroid_df = centroid_df[centroid_df[\"LycoOnline\"] != \"\"]"
   ]
  },
  {
   "cell_type": "code",
   "execution_count": 74,
   "metadata": {},
   "outputs": [],
   "source": [
    "centroid_df =centroid_df.rename(columns={\"LycoOnline\": \"URL\"})"
   ]
  },
  {
   "cell_type": "code",
   "execution_count": 75,
   "metadata": {},
   "outputs": [
    {
     "data": {
      "text/plain": [
       "(51183, 18)"
      ]
     },
     "execution_count": 75,
     "metadata": {},
     "output_type": "execute_result"
    }
   ],
   "source": [
    "centroid_df.shape"
   ]
  },
  {
   "cell_type": "code",
   "execution_count": 76,
   "metadata": {},
   "outputs": [],
   "source": [
    "final_df =merged_df.merge(centroid_df, on=\"URL\", how=\"inner\")"
   ]
  },
  {
   "cell_type": "code",
   "execution_count": 84,
   "metadata": {},
   "outputs": [
    {
     "data": {
      "text/plain": [
       "Index(['URL', 'Bedrooms', 'Class', 'Full Baths', 'Half Baths', 'Land Use Code',\n",
       "       'Sales', 'Square Feet', 'Utilities', 'Year Built', 'Long', 'Lat',\n",
       "       'OBJECTID', 'TXID_NMBR', 'PARCEL', 'FULL_NAME', 'OWNER_ADD',\n",
       "       'OWNER_ADD2', 'OWNER_CITY', 'OWNER_ST', 'OWNER_ZIP', 'MUNIC', 'SITUS',\n",
       "       'DEED', 'DEED_ACRES', 'GlobalID', 'ORIG_FID'],\n",
       "      dtype='object')"
      ]
     },
     "execution_count": 84,
     "metadata": {},
     "output_type": "execute_result"
    }
   ],
   "source": [
    "final_df.columns"
   ]
  },
  {
   "cell_type": "code",
   "execution_count": 83,
   "metadata": {},
   "outputs": [],
   "source": [
    "final_df = final_df.drop([\"Property Location\", \"Municipality\"], axis=1)"
   ]
  },
  {
   "cell_type": "code",
   "execution_count": 85,
   "metadata": {},
   "outputs": [],
   "source": [
    "final_df.to_csv(\"final_lycoming_data.tsv\", sep=\"\\t\", header=0, index=False)"
   ]
  },
  {
   "cell_type": "code",
   "execution_count": null,
   "metadata": {},
   "outputs": [],
   "source": []
  }
 ],
 "metadata": {
  "kernelspec": {
   "display_name": "Python 3",
   "language": "python",
   "name": "python3"
  },
  "language_info": {
   "codemirror_mode": {
    "name": "ipython",
    "version": 3
   },
   "file_extension": ".py",
   "mimetype": "text/x-python",
   "name": "python",
   "nbconvert_exporter": "python",
   "pygments_lexer": "ipython3",
   "version": "3.6.9"
  }
 },
 "nbformat": 4,
 "nbformat_minor": 2
}
